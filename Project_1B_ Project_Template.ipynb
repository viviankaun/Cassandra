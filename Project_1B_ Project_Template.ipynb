{
 "cells": [
  {
   "cell_type": "markdown",
   "metadata": {
    "editable": true
   },
   "source": [
    "# Part I. ETL Pipeline for Pre-Processing the Files"
   ]
  },
  {
   "cell_type": "markdown",
   "metadata": {
    "editable": true
   },
   "source": [
    "## PLEASE RUN THE FOLLOWING CODE FOR PRE-PROCESSING THE FILES"
   ]
  },
  {
   "cell_type": "markdown",
   "metadata": {
    "editable": true
   },
   "source": [
    "#### Import Python packages "
   ]
  },
  {
   "cell_type": "code",
   "execution_count": 74,
   "metadata": {
    "editable": true
   },
   "outputs": [],
   "source": [
    "# Import Python packages \n",
    "import pandas as pd\n",
    "import cassandra\n",
    "import re\n",
    "import os\n",
    "import glob\n",
    "import numpy as np\n",
    "import json\n",
    "import csv"
   ]
  },
  {
   "cell_type": "markdown",
   "metadata": {
    "editable": true
   },
   "source": [
    "#### Creating list of filepaths to process original event csv data files"
   ]
  },
  {
   "cell_type": "code",
   "execution_count": 75,
   "metadata": {
    "editable": true
   },
   "outputs": [],
   "source": [
    "# checking your current working directory, /home/workspace\n",
    "# print(os.getcwd())\n",
    "\n",
    "# Get your current folder and subfolder event data\n",
    "filepath = os.getcwd() + '/event_data'\n",
    " \n",
    "# Create a for loop to create a list of files and collect each filepath\n",
    "# root =>/home/workspace/event_data\n",
    "# dirs =>[]\n",
    "# files=> ['2018-11-27-events.csv',....] \n",
    "for root, dirs, files in os.walk(filepath):\n",
    "    \n",
    "    # join the file path and roots with the subdirectories using glob , '/home/workspace/event_data/2018-11-14-events.csv',\n",
    "    file_path_list = glob.glob(os.path.join(root,'*'))\n",
    "    "
   ]
  },
  {
   "cell_type": "markdown",
   "metadata": {
    "editable": true
   },
   "source": [
    "#### Processing the files to create the data file csv that will be used for Apache Casssandra tables"
   ]
  },
  {
   "cell_type": "code",
   "execution_count": 41,
   "metadata": {
    "editable": true
   },
   "outputs": [
    {
     "name": "stdout",
     "output_type": "stream",
     "text": [
      "8056\n"
     ]
    }
   ],
   "source": [
    "# initiating an empty list of rows that will be generated from each file\n",
    "full_data_rows_list = [] \n",
    "    \n",
    "# for every filepath in the file path list \n",
    "for f in file_path_list:\n",
    "\n",
    "    # reading csv file \n",
    "    with open(f, 'r', encoding = 'utf8', newline='') as csvfile: \n",
    "        # creating a csv reader object \n",
    "        csvreader = csv.reader(csvfile) \n",
    "        next(csvreader) # skip header\n",
    "        \n",
    "         # extracting each data row one by one and append it        \n",
    "        for line in csvreader: \n",
    "            full_data_rows_list.append(line) \n",
    "            \n",
    " \n",
    " \n",
    "\n",
    "# creating a smaller event data csv file called event_datafile_full csv that will be used to insert data into the \\\n",
    "# Apache Cassandra tables\n",
    "csv.register_dialect('myDialect', quoting=csv.QUOTE_ALL, skipinitialspace=True)\n",
    "\n",
    "with open('event_datafile_new.csv', 'w', encoding = 'utf8', newline='') as f:\n",
    "    writer = csv.writer(f, dialect='myDialect')\n",
    "    writer.writerow(['artist','firstName','gender','itemInSession','lastName','length',\\\n",
    "                'level','location','sessionId','song','userId'])\n",
    "    for row in full_data_rows_list:\n",
    "        if (row[0] == ''):\n",
    "            continue\n",
    "        writer.writerow((row[0], row[2], row[3], row[4], row[5], row[6], row[7], row[8], row[12], row[13], row[16]))\n"
   ]
  },
  {
   "cell_type": "code",
   "execution_count": 76,
   "metadata": {
    "editable": true
   },
   "outputs": [
    {
     "name": "stdout",
     "output_type": "stream",
     "text": [
      "6821\n"
     ]
    }
   ],
   "source": [
    "# check the number of rows in your csv file\n",
    "with open('event_datafile_new.csv', 'r', encoding = 'utf8') as f:\n",
    "    print(sum(1 for line in f))"
   ]
  },
  {
   "cell_type": "markdown",
   "metadata": {
    "editable": true
   },
   "source": [
    "# Part II. Complete the Apache Cassandra coding portion of your project. \n",
    "\n",
    "## Now you are ready to work with the CSV file titled <font color=red>event_datafile_new.csv</font>, located within the Workspace directory.  The event_datafile_new.csv contains the following columns: \n",
    "- artist \n",
    "- firstName of user\n",
    "- gender of user\n",
    "- item number in session\n",
    "- last name of user\n",
    "- length of the song\n",
    "- level (paid or free song)\n",
    "- location of the user\n",
    "- sessionId\n",
    "- song title\n",
    "- userId\n",
    "\n",
    "The image below is a screenshot of what the denormalized data should appear like in the <font color=red>**event_datafile_new.csv**</font> after the code above is run:<br>\n",
    "\n",
    "<img src=\"images/image_event_datafile_new.jpg\">"
   ]
  },
  {
   "cell_type": "markdown",
   "metadata": {
    "editable": true
   },
   "source": [
    "## Begin writing your Apache Cassandra code in the cells below"
   ]
  },
  {
   "cell_type": "markdown",
   "metadata": {
    "editable": true
   },
   "source": [
    "#### Creating a Cluster"
   ]
  },
  {
   "cell_type": "code",
   "execution_count": 77,
   "metadata": {
    "editable": true
   },
   "outputs": [],
   "source": [
    "# This should make a connection to a Cassandra instance your local machine \n",
    "# (127.0.0.1)\n",
    "\n",
    "from cassandra.cluster import Cluster\n",
    "cluster = Cluster()\n",
    "\n",
    "# To establish connection and begin executing queries, need a session\n",
    "session = cluster.connect()"
   ]
  },
  {
   "cell_type": "markdown",
   "metadata": {
    "editable": true
   },
   "source": [
    "#### Create Keyspace"
   ]
  },
  {
   "cell_type": "code",
   "execution_count": 78,
   "metadata": {
    "editable": true
   },
   "outputs": [],
   "source": [
    "# TO-DO: Create a Keyspace \n",
    "try:\n",
    " session.execute(\"\"\"\n",
    "    CREATE KEYSPACE IF NOT EXISTS sparkifydb \n",
    "    WITH REPLICATION = \n",
    "    { 'class' : 'SimpleStrategy', 'replication_factor' : 1 }\"\"\"\n",
    "                )\n",
    "except Exception as e:\n",
    "    print(e)"
   ]
  },
  {
   "cell_type": "markdown",
   "metadata": {
    "editable": true
   },
   "source": [
    "#### Set Keyspace"
   ]
  },
  {
   "cell_type": "code",
   "execution_count": 79,
   "metadata": {
    "editable": true
   },
   "outputs": [],
   "source": [
    "# TO-DO: Set KEYSPACE to the keyspace specified above\n",
    "try:\n",
    "    session.set_keyspace('sparkifydb')\n",
    "except Exception as e:\n",
    "    print(e)"
   ]
  },
  {
   "cell_type": "markdown",
   "metadata": {
    "editable": true
   },
   "source": [
    "### Now we need to create tables to run the following queries. Remember, with Apache Cassandra you model the database tables on the queries you want to run."
   ]
  },
  {
   "cell_type": "markdown",
   "metadata": {
    "editable": true
   },
   "source": [
    "## Create queries to ask the following three questions of the data\n",
    "\n",
    "### 1. Give me the artist, song title and song's length in the music app history that was heard during  sessionId = 338, and itemInSession  = 4\n",
    "\n",
    "\n",
    "### 2. Give me only the following: name of artist, song (sorted by itemInSession) and user (first and last name) for userid = 10, sessionid = 182\n",
    "    \n",
    "\n",
    "### 3. Give me every user name (first and last) in my music app history who listened to the song 'All Hands Against His Own'\n",
    "\n",
    "\n"
   ]
  },
  {
   "cell_type": "code",
   "execution_count": 60,
   "metadata": {
    "editable": true
   },
   "outputs": [],
   "source": [
    "## TO-DO: Query 1:  Give me the artist, song title and song's length in the music app history that was heard during \\\n",
    "## sessionId = 338, and itemInSession = 4\n",
    "\n",
    "try:\n",
    "    query = \" CREATE TABLE IF NOT EXISTS sparkifydb.songs ( artist text,\\\n",
    "    itemInSession int,\\\n",
    "    length float,\\\n",
    "    sessionId int,\\\n",
    "    song text,\\\n",
    "    PRIMARY KEY ( itemInSession, sessionId ) )\"   \n",
    "    session.execute(query)\n",
    "    \n",
    "except Exception as e:\n",
    "    print(e)\n",
    "\n",
    "\n",
    "                    "
   ]
  },
  {
   "cell_type": "code",
   "execution_count": 61,
   "metadata": {
    "editable": true
   },
   "outputs": [],
   "source": [
    "# We have provided part of the code to set up the CSV file. Please complete the Apache Cassandra code below#\n",
    "file = 'event_datafile_new.csv'\n",
    "\n",
    "with open(file, encoding = 'utf8') as f:\n",
    "    csvreader = csv.reader(f)\n",
    "    next(csvreader) # skip header\n",
    "    for line in csvreader:\n",
    "## TO-DO: Assign the INSERT statements into the `query` variable\n",
    "        query = \" INSERT INTO songs  ( artist, itemInSession, length, sessionId, song)  \"\n",
    "        query = query + \" VALUES ( %s, %s, %s, %s, %s ) \" \n",
    "        session.execute(query, (line[0], int(line[3]), float(line[5]), int(line[8]), line[9] ))"
   ]
  },
  {
   "cell_type": "markdown",
   "metadata": {
    "editable": true
   },
   "source": [
    "#### Do a SELECT to verify that the data have been inserted into each table"
   ]
  },
  {
   "cell_type": "code",
   "execution_count": 62,
   "metadata": {
    "editable": true,
    "scrolled": true
   },
   "outputs": [
    {
     "name": "stdout",
     "output_type": "stream",
     "text": [
      "('Faithless', 'Music Matters (Mark Knight Dub)', 495.30731201171875)\n"
     ]
    }
   ],
   "source": [
    " \n",
    "try:\n",
    "    query = \" SELECT artist, song, length FROM songs WHERE sessionId=338 and itemInSession=4  \"\n",
    "    rows = session.execute(query)\n",
    "    for row in rows:\n",
    "        print((row[0], row[1], row[2]))\n",
    "\n",
    "except Exception as e:\n",
    "    print(e)\n",
    "    \n"
   ]
  },
  {
   "cell_type": "markdown",
   "metadata": {
    "editable": true
   },
   "source": [
    "### COPY AND REPEAT THE ABOVE THREE CELLS FOR EACH OF THE THREE QUESTIONS"
   ]
  },
  {
   "cell_type": "code",
   "execution_count": 80,
   "metadata": {
    "editable": true
   },
   "outputs": [],
   "source": [
    "## TO-DO: Query 2: Give me only the following: name of artist, song (sorted by itemInSession) and user (first and last name)\\\n",
    "## for userid = 10, sessionid = 182\n",
    " \n",
    "     \n",
    "\n",
    "try:\n",
    "    session.execute( \"drop table if exists sparkifydb.users\")\n",
    "\n",
    "    query = \" CREATE TABLE IF NOT EXISTS sparkifydb.users ( artist text,\\\n",
    "    firstName text,\\\n",
    "    lastName text,\\\n",
    "    song text,\\\n",
    "    itemInSession int,\\\n",
    "    sessionId int,\\\n",
    "    userId int,\\\n",
    "    PRIMARY KEY  ((userId, sessionId), itemInSession)) \"   \n",
    "    \n",
    "    session.execute(query) \n",
    "    file = 'event_datafile_new.csv'\n",
    "\n",
    "    with open(file, encoding = 'utf8') as f:\n",
    "        csvreader = csv.reader(f)\n",
    "        next(csvreader) # skip header\n",
    "        for line in csvreader: \n",
    "            query = \" INSERT INTO users  ( artist, firstName, itemInSession, lastName, sessionId, song, userId) \\\n",
    "                 VALUES ( %s, %s, %s, %s, %s, %s, %s ) \" \n",
    "            session.execute(query, (line[0], line[1], int(line[3]), line[4], int(line[8]), line[9], int(line[10]) ))\n",
    "    \n",
    "except Exception as e:\n",
    "    print(e)\n",
    "    \n",
    "                    "
   ]
  },
  {
   "cell_type": "code",
   "execution_count": 85,
   "metadata": {
    "editable": true
   },
   "outputs": [
    {
     "name": "stdout",
     "output_type": "stream",
     "text": [
      "(88, 744, 'The Perfect Space', 'Mohammad', 1)\n",
      "(88, 744, 'Mother Mother', 'Mohammad', 2)\n",
      "(88, 744, 'Canada', 'Mohammad', 3)\n",
      "(88, 744, '(Nice Dream)', 'Mohammad', 5)\n",
      "(88, 744, 'Magic', 'Mohammad', 6)\n",
      "(88, 744, 'Make Me Better', 'Mohammad', 7)\n",
      "(88, 744, 'Minimum', 'Mohammad', 8)\n",
      "(88, 744, 'Mon Ange', 'Mohammad', 9)\n",
      "(88, 744, 'Mr. Jones', 'Mohammad', 10)\n",
      "(88, 744, 'Money To Burn', 'Mohammad', 11)\n",
      "(88, 744, 'Prayers', 'Mohammad', 12)\n",
      "(88, 744, 'Die Kunst der Fuge_ BWV 1080 (2007 Digital Remaster): Contrapunctus XVII - Inversus', 'Mohammad', 13)\n",
      "(88, 744, 'Revolution', 'Mohammad', 14)\n",
      "(88, 744, 'I Might Be Wrong', 'Mohammad', 15)\n",
      "(88, 744, 'Proper Education', 'Mohammad', 16)\n",
      "(88, 744, 'Christeen', 'Mohammad', 17)\n",
      "(88, 744, 'TRAS', 'Mohammad', 18)\n",
      "(88, 744, 'Possessed', 'Mohammad', 19)\n",
      "(88, 744, 'Picture', 'Mohammad', 20)\n",
      "(88, 744, 'Space Travel', 'Mohammad', 21)\n",
      "(88, 744, 'One Time', 'Mohammad', 22)\n",
      "(88, 744, \"Nothin' On You [feat. Bruno Mars] (Album Version)\", 'Mohammad', 23)\n",
      "(88, 744, 'Cover Me', 'Mohammad', 24)\n",
      "(88, 744, 'Not Fair', 'Mohammad', 25)\n",
      "(88, 744, 'Hey Little Girl', 'Mohammad', 26)\n",
      "(88, 744, 'Headlights Look Like Diamonds', 'Mohammad', 27)\n",
      "(88, 744, '(iii)', 'Mohammad', 28)\n",
      "(88, 744, \"Love's a Mystery (LP Version)\", 'Mohammad', 29)\n",
      "(88, 744, \"Sugar_ We're Goin Down\", 'Mohammad', 31)\n",
      "(88, 744, 'Lady (Hear Me Tonight)', 'Mohammad', 33)\n",
      "(88, 744, 'I Go To Sleep (2005 Digital Remaster)', 'Mohammad', 34)\n",
      "(88, 744, 'Jambalaya', 'Mohammad', 35)\n",
      "(88, 744, 'Make Her Say', 'Mohammad', 36)\n",
      "(88, 744, 'Lo  Que Tengo Yo Adentro', 'Mohammad', 37)\n",
      "(88, 744, 'The Gift', 'Mohammad', 38)\n",
      "(88, 744, 'Dance Like A hoe', 'Mohammad', 39)\n",
      "(88, 744, 'Starz In Their Eyes', 'Mohammad', 40)\n",
      "(88, 744, 'Take the Limits Off', 'Mohammad', 41)\n",
      "(88, 744, 'Gnijacy Swiat', 'Mohammad', 42)\n",
      "(88, 744, 'Moondance (Album Version)', 'Mohammad', 43)\n",
      "(88, 744, '2 Become 1', 'Mohammad', 44)\n",
      "(88, 744, 'The Fallen (Ruined By Justice)', 'Mohammad', 45)\n",
      "(88, 744, 'ClichÃ\\x83Â©', 'Mohammad', 46)\n"
     ]
    }
   ],
   "source": [
    "\n",
    "\n",
    "         \n",
    "\n",
    "query = \" SELECT artist, song, firstName , lastName ,itemInSession  FROM users WHERE userId=10 and sessionId=182   \"\n",
    "query = \" SELECT userId, sessionId, song, firstName ,itemInSession  FROM users WHERE userId=88 and sessionId=744   \"\n",
    "rows = session.execute(query)\n",
    "for row in rows:\n",
    "        print((row[0], row[1], row[2], row[3], row[4]  ))\n",
    "        \n",
    "                    "
   ]
  },
  {
   "cell_type": "code",
   "execution_count": 54,
   "metadata": {
    "editable": true
   },
   "outputs": [],
   "source": [
    "## TO-DO: Query 3: Give me every user name (first and last) in my music app history who listened to the song 'All Hands Against His Own'\n",
    "\n",
    "\n",
    "try:\n",
    "    session.execute( \"drop table if exists sparkifydb.listened\")\n",
    "\n",
    "    query = \" CREATE TABLE IF NOT EXISTS sparkifydb.listened (  firstName text,\\\n",
    "    lastName text,\\\n",
    "    song text,\\\n",
    "    userId int,\\\n",
    "    PRIMARY KEY  ( song, userId ) )\"   \n",
    "    \n",
    "    session.execute(query) \n",
    "    file = 'event_datafile_new.csv'\n",
    "\n",
    "    with open(file, encoding = 'utf8') as f:\n",
    "        csvreader = csv.reader(f)\n",
    "        next(csvreader) # skip header\n",
    "        for line in csvreader: \n",
    "            query = \" INSERT INTO listened ( firstName, lastName, song, userId) \\\n",
    "                 VALUES ( %s, %s, %s, %s) \" \n",
    "            session.execute(query, (line[1], line[4], line[9], int(line[10]) ))\n",
    "    \n",
    "except Exception as e:\n",
    "    print(e)"
   ]
  },
  {
   "cell_type": "code",
   "execution_count": 56,
   "metadata": {
    "editable": true
   },
   "outputs": [
    {
     "name": "stdout",
     "output_type": "stream",
     "text": [
      "Jacqueline Lynch\n",
      "Tegan Levine\n",
      "Sara Johnson\n"
     ]
    }
   ],
   "source": [
    "query = \" SELECT firstName, lastName , song FROM listened  where song= 'All Hands Against His Own' \"\n",
    " \n",
    "rows = session.execute(query)\n",
    "for row in rows:\n",
    "        print( row[0], row[1]  )\n",
    "         \n",
    " "
   ]
  },
  {
   "cell_type": "markdown",
   "metadata": {
    "editable": true
   },
   "source": [
    "### Drop the tables before closing out the sessions"
   ]
  },
  {
   "cell_type": "code",
   "execution_count": 123,
   "metadata": {
    "editable": true
   },
   "outputs": [],
   "source": [
    "## TO-DO: Drop the table before closing out the sessions"
   ]
  },
  {
   "cell_type": "code",
   "execution_count": 59,
   "metadata": {
    "editable": true
   },
   "outputs": [
    {
     "name": "stdout",
     "output_type": "stream",
     "text": [
      "... DROP TABLE IF EXISTS songs <cassandra.cluster.ResultSet object at 0x7f3ed9c1aa58>\n",
      "... DROP TABLE IF EXISTS users <cassandra.cluster.ResultSet object at 0x7f3ed9c1aa20>\n",
      "... DROP TABLE IF EXISTS listened <cassandra.cluster.ResultSet object at 0x7f3ed9c1ada0>\n"
     ]
    }
   ],
   "source": [
    "queries = [\"DROP TABLE IF EXISTS songs\",\n",
    "           \"DROP TABLE IF EXISTS users\",\n",
    "           \"DROP TABLE IF EXISTS listened\"]\n",
    "\n",
    "\n",
    "for query in queries:\n",
    "    try:\n",
    "        session.execute(query)\n",
    "        print('...',query)\n",
    "    except Exception as e:\n",
    "        print(e)\n",
    " "
   ]
  },
  {
   "cell_type": "markdown",
   "metadata": {
    "editable": true
   },
   "source": [
    "### Close the session and cluster connection¶"
   ]
  },
  {
   "cell_type": "code",
   "execution_count": 139,
   "metadata": {
    "editable": true
   },
   "outputs": [],
   "source": [
    "session.shutdown()\n",
    "cluster.shutdown()"
   ]
  },
  {
   "cell_type": "code",
   "execution_count": null,
   "metadata": {
    "editable": true
   },
   "outputs": [],
   "source": []
  },
  {
   "cell_type": "code",
   "execution_count": null,
   "metadata": {
    "editable": true
   },
   "outputs": [],
   "source": []
  }
 ],
 "metadata": {
  "kernelspec": {
   "display_name": "Python 3",
   "language": "python",
   "name": "python3"
  },
  "language_info": {
   "codemirror_mode": {
    "name": "ipython",
    "version": 3
   },
   "file_extension": ".py",
   "mimetype": "text/x-python",
   "name": "python",
   "nbconvert_exporter": "python",
   "pygments_lexer": "ipython3",
   "version": "3.6.3"
  }
 },
 "nbformat": 4,
 "nbformat_minor": 4
}
